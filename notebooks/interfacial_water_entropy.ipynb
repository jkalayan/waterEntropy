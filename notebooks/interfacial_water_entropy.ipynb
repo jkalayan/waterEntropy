{
 "cells": [
  {
   "cell_type": "markdown",
   "metadata": {},
   "source": [
    "# Entropy of interfacial water molecules with ``waterEntropy``"
   ]
  },
  {
   "cell_type": "markdown",
   "metadata": {},
   "source": [
    "Install the waterEntropy package and external packages used in this tutorial in a conda environment:"
   ]
  },
  {
   "cell_type": "code",
   "execution_count": null,
   "metadata": {},
   "outputs": [],
   "source": [
    "! conda create -n waterEntropy python==3.11\n",
    "! conda activate waterEntropy\n",
    "! pip install waterEntropy==1.0.1\n",
    "! pip install nglview==3.1.4"
   ]
  },
  {
   "cell_type": "markdown",
   "metadata": {},
   "source": [
    "Import external and internal code required for this tutorial:"
   ]
  },
  {
   "cell_type": "code",
   "execution_count": null,
   "metadata": {},
   "outputs": [],
   "source": [
    "from MDAnalysis import Universe\n",
    "import nglview as nv\n",
    "import waterEntropy.recipes.interfacial_solvent as GetSolvent"
   ]
  },
  {
   "cell_type": "markdown",
   "metadata": {},
   "source": [
    "Use the MDAnalysis package to read in molecular dynamics simulation files:"
   ]
  },
  {
   "cell_type": "code",
   "execution_count": null,
   "metadata": {},
   "outputs": [],
   "source": [
    "# load topology and trajectory into an MDAnalysis universe instance\n",
    "topology_file = \"lysozyme_solution/system.tpr\"\n",
    "trajectory_file = \"lysozyme_solution/system.trr\"\n",
    "u = Universe(topology_file, trajectory_file)"
   ]
  },
  {
   "cell_type": "markdown",
   "metadata": {},
   "source": [
    "Select the start and end frames, and the interval step between the start and end frames, to analyse:"
   ]
  },
  {
   "cell_type": "code",
   "execution_count": null,
   "metadata": {},
   "outputs": [],
   "source": [
    "start, end, step = 0, 4, 2 # this will select frame 0 and 2"
   ]
  },
  {
   "cell_type": "markdown",
   "metadata": {},
   "source": [
    "Get the shells of all interfacial water molecules:"
   ]
  },
  {
   "cell_type": "code",
   "execution_count": null,
   "metadata": {},
   "outputs": [],
   "source": [
    "# get the coordination shells of water molecules at interfaces\n",
    "frame_solvent_shells = GetSolvent.get_interfacial_shells(u, start, end, step)"
   ]
  },
  {
   "cell_type": "markdown",
   "metadata": {},
   "source": [
    "Print the shells for each water molecule at the interface for each simulation frame analysed:"
   ]
  },
  {
   "cell_type": "code",
   "execution_count": null,
   "metadata": {},
   "outputs": [],
   "source": [
    "# print out the UA indices in the shells of each interfacial water index\n",
    "GetSolvent.print_frame_solvent_shells(frame_solvent_shells)"
   ]
  },
  {
   "cell_type": "markdown",
   "metadata": {},
   "source": [
    "The outputs show...could select interfacial waters around protein"
   ]
  }
 ],
 "metadata": {
  "language_info": {
   "name": "python"
  }
 },
 "nbformat": 4,
 "nbformat_minor": 2
}
